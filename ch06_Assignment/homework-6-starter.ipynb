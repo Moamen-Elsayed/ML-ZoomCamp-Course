{
 "cells": [
  {
   "cell_type": "markdown",
   "metadata": {},
   "source": [
    "## 6.10 Homework\n",
    "\n",
    "The goal of this homework is to create a tree-based regression model for prediction apartment prices (column `'price'`).\n",
    "\n",
    "In this homework we'll again use the New York City Airbnb Open Data dataset - the same one we used in homework 2 and 3.\n",
    "\n",
    "You can take it from [Kaggle](https://www.kaggle.com/dgomonov/new-york-city-airbnb-open-data?select=AB_NYC_2019.csv)\n",
    "or download from [here](https://raw.githubusercontent.com/alexeygrigorev/datasets/master/AB_NYC_2019.csv)\n",
    "if you don't want to sign up to Kaggle.\n",
    "\n",
    "Let's load the data:"
   ]
  },
  {
   "cell_type": "code",
   "execution_count": 2,
   "metadata": {},
   "outputs": [],
   "source": [
    "import pandas as pd\n",
    "import numpy as np\n",
    "\n",
    "import matplotlib.pyplot as plt\n",
    "import seaborn as sns\n",
    "\n",
    "%matplotlib inline"
   ]
  },
  {
   "cell_type": "code",
   "execution_count": 23,
   "metadata": {},
   "outputs": [],
   "source": [
    "columns = [\n",
    "    'neighbourhood_group', 'room_type', 'latitude', 'longitude',\n",
    "    'minimum_nights', 'number_of_reviews','reviews_per_month',\n",
    "    'calculated_host_listings_count', 'availability_365',\n",
    "    'price'\n",
    "]\n",
    "\n",
    "df = pd.read_csv(r'../ch03_Assignment/AB_NYC_2019.csv', usecols=columns)\n",
    "df.reviews_per_month = df.reviews_per_month.fillna(0)"
   ]
  },
  {
   "cell_type": "markdown",
   "metadata": {},
   "source": [
    "* Apply the log tranform to `price`\n",
    "* Do train/validation/test split with 60%/20%/20% distribution. \n",
    "* Use the `train_test_split` function and set the `random_state` parameter to 1"
   ]
  },
  {
   "cell_type": "code",
   "execution_count": 24,
   "metadata": {},
   "outputs": [],
   "source": [
    "df['logprice'] = np.log1p(df['price'])"
   ]
  },
  {
   "cell_type": "code",
   "execution_count": 25,
   "metadata": {},
   "outputs": [],
   "source": [
    "from sklearn.model_selection import train_test_split"
   ]
  },
  {
   "cell_type": "code",
   "execution_count": 26,
   "metadata": {},
   "outputs": [
    {
     "name": "stdout",
     "output_type": "stream",
     "text": [
      "(29337, 11) (9779, 11) (9779, 11)\n"
     ]
    }
   ],
   "source": [
    "df_full_train, df_test = train_test_split(df, test_size=0.2, random_state=1)\n",
    "df_train, df_val = train_test_split(df_full_train, test_size=0.25, random_state=1)\n",
    "\n",
    "print(df_train.shape, df_val.shape, df_test.shape)"
   ]
  },
  {
   "cell_type": "code",
   "execution_count": 27,
   "metadata": {},
   "outputs": [],
   "source": [
    "df_train = df_train.reset_index(drop=True)\n",
    "df_val = df_val.reset_index(drop=True)\n",
    "df_test = df_test.reset_index(drop=True)"
   ]
  },
  {
   "cell_type": "code",
   "execution_count": 28,
   "metadata": {},
   "outputs": [],
   "source": [
    "y_train = (df_train.logprice).astype('int').values\n",
    "y_val = (df_val.logprice).astype('int').values\n",
    "y_test = (df_test.logprice).astype('int').values"
   ]
  },
  {
   "cell_type": "code",
   "execution_count": 29,
   "metadata": {},
   "outputs": [],
   "source": [
    "del df_train['price']\n",
    "del df_val['price']\n",
    "del df_test['price']\n",
    "\n",
    "del df_train['logprice']\n",
    "del df_val['logprice']\n",
    "del df_test['logprice']"
   ]
  },
  {
   "cell_type": "markdown",
   "metadata": {},
   "source": [
    "Now, use `DictVectorizer` to turn train and validation into matrices:"
   ]
  },
  {
   "cell_type": "code",
   "execution_count": 30,
   "metadata": {},
   "outputs": [],
   "source": [
    "from sklearn.feature_extraction import DictVectorizer"
   ]
  },
  {
   "cell_type": "code",
   "execution_count": 31,
   "metadata": {},
   "outputs": [],
   "source": [
    "train_dict = df_train.to_dict(orient='records')\n",
    "\n",
    "dv = DictVectorizer(sparse=False)\n",
    "X_train = dv.fit_transform(train_dict)"
   ]
  },
  {
   "cell_type": "code",
   "execution_count": 32,
   "metadata": {},
   "outputs": [],
   "source": [
    "val_dict = df_val.to_dict(orient='records')\n",
    "\n",
    "dv = DictVectorizer(sparse=False)\n",
    "X_val = dv.fit_transform(val_dict)"
   ]
  },
  {
   "cell_type": "markdown",
   "metadata": {},
   "source": [
    "## Question 1\n",
    "\n",
    "Let's train a decision tree regressor to predict the price variable. \n",
    "\n",
    "* Train a model with `max_depth=1`"
   ]
  },
  {
   "cell_type": "code",
   "execution_count": 39,
   "metadata": {},
   "outputs": [],
   "source": [
    "from sklearn.tree import DecisionTreeRegressor, export_text"
   ]
  },
  {
   "cell_type": "code",
   "execution_count": 40,
   "metadata": {},
   "outputs": [
    {
     "data": {
      "text/plain": [
       "DecisionTreeRegressor(max_depth=1)"
      ]
     },
     "execution_count": 40,
     "metadata": {},
     "output_type": "execute_result"
    }
   ],
   "source": [
    "dt = DecisionTreeRegressor(max_depth=1)\n",
    "dt.fit(X_train, y_train)"
   ]
  },
  {
   "cell_type": "code",
   "execution_count": 43,
   "metadata": {},
   "outputs": [],
   "source": [
    "from sklearn.metrics import roc_auc_score\n",
    "\n",
    "y_pred = dt.predict(X_val)"
   ]
  },
  {
   "cell_type": "code",
   "execution_count": 45,
   "metadata": {},
   "outputs": [],
   "source": [
    "def RMSE(y_pred, y):\n",
    "    E = y - y_pred\n",
    "    SE = E ** 2\n",
    "    MSE = SE.mean()\n",
    "    \n",
    "    return np.sqrt(MSE)"
   ]
  },
  {
   "cell_type": "code",
   "execution_count": 47,
   "metadata": {},
   "outputs": [
    {
     "data": {
      "text/plain": [
       "0.6298287647267291"
      ]
     },
     "execution_count": 47,
     "metadata": {},
     "output_type": "execute_result"
    }
   ],
   "source": [
    "RMSE(y_pred, y_val)"
   ]
  },
  {
   "cell_type": "code",
   "execution_count": 48,
   "metadata": {},
   "outputs": [
    {
     "name": "stdout",
     "output_type": "stream",
     "text": [
      "|--- room_type=Entire home/apt <= 0.50\n",
      "|   |--- value: [3.81]\n",
      "|--- room_type=Entire home/apt >  0.50\n",
      "|   |--- value: [4.66]\n",
      "\n"
     ]
    }
   ],
   "source": [
    "print(export_text(dt, feature_names=dv.get_feature_names()))"
   ]
  },
  {
   "cell_type": "markdown",
   "metadata": {},
   "source": [
    "Which feature is used for splitting the data?\n",
    "\n",
    "* `room_type`\n",
    "* `neighbourhood_group`\n",
    "* `number_of_reviews`\n",
    "* `reviews_per_month`"
   ]
  },
  {
   "cell_type": "markdown",
   "metadata": {},
   "source": [
    "## Question 2\n",
    "\n",
    "Train a random forest model with these parameters:\n",
    "\n",
    "* `n_estimators=10`\n",
    "* `random_state=1`\n",
    "* `n_jobs=-1`  (optional - to make training faster)"
   ]
  },
  {
   "cell_type": "code",
   "execution_count": 56,
   "metadata": {},
   "outputs": [],
   "source": [
    "from sklearn.ensemble import RandomForestRegressor"
   ]
  },
  {
   "cell_type": "code",
   "execution_count": 57,
   "metadata": {},
   "outputs": [
    {
     "data": {
      "text/plain": [
       "RandomForestRegressor(n_estimators=10, n_jobs=-1, random_state=1)"
      ]
     },
     "execution_count": 57,
     "metadata": {},
     "output_type": "execute_result"
    }
   ],
   "source": [
    "rf = RandomForestRegressor(n_estimators=10,\n",
    "                           random_state=1, \n",
    "                           n_jobs=-1)\n",
    "rf.fit(X_train, y_train)"
   ]
  },
  {
   "cell_type": "code",
   "execution_count": 60,
   "metadata": {},
   "outputs": [
    {
     "data": {
      "text/plain": [
       "0.5621877506494283"
      ]
     },
     "execution_count": 60,
     "metadata": {},
     "output_type": "execute_result"
    }
   ],
   "source": [
    "y_pred = rf.predict(X_val)\n",
    "\n",
    "RMSE(y_pred, y_val)"
   ]
  },
  {
   "cell_type": "markdown",
   "metadata": {},
   "source": [
    "What's the RMSE of this model on validation?\n",
    "\n",
    "* 0.059\n",
    "* 0.259\n",
    "* 0.459\n",
    "* 0.659"
   ]
  },
  {
   "cell_type": "markdown",
   "metadata": {},
   "source": [
    "## Question 3\n",
    "\n",
    "Now let's experiment with the `n_estimators` parameter\n",
    "\n",
    "* Try different values of this parameter from 10 to 200 with step 10\n",
    "* Set `random_state` to `1`\n",
    "* Evaluate the model on the validation dataset"
   ]
  },
  {
   "cell_type": "code",
   "execution_count": 64,
   "metadata": {},
   "outputs": [],
   "source": [
    "scores = []\n",
    "for n in range(10, 201, 10):\n",
    "    rf = RandomForestRegressor(n_estimators=n, random_state=1)\n",
    "    rf.fit(X_train, y_train)\n",
    "    y_pred = rf.predict(X_val)\n",
    "    rmse = RMSE(y_pred, y_val)\n",
    "    \n",
    "    scores.append((n, rmse))"
   ]
  },
  {
   "cell_type": "code",
   "execution_count": 65,
   "metadata": {},
   "outputs": [],
   "source": [
    "df_scores = pd.DataFrame(scores, columns=['n_estimators', 'rmse'])"
   ]
  },
  {
   "cell_type": "code",
   "execution_count": 68,
   "metadata": {},
   "outputs": [
    {
     "data": {
      "text/plain": [
       "0    10\n",
       "Name: n_estimators, dtype: int64"
      ]
     },
     "execution_count": 68,
     "metadata": {},
     "output_type": "execute_result"
    }
   ],
   "source": [
    "df_scores[df_scores['rmse'] == max(df_scores['rmse'])]['n_estimators']"
   ]
  },
  {
   "cell_type": "code",
   "execution_count": 69,
   "metadata": {},
   "outputs": [
    {
     "data": {
      "text/html": [
       "<div>\n",
       "<style scoped>\n",
       "    .dataframe tbody tr th:only-of-type {\n",
       "        vertical-align: middle;\n",
       "    }\n",
       "\n",
       "    .dataframe tbody tr th {\n",
       "        vertical-align: top;\n",
       "    }\n",
       "\n",
       "    .dataframe thead th {\n",
       "        text-align: right;\n",
       "    }\n",
       "</style>\n",
       "<table border=\"1\" class=\"dataframe\">\n",
       "  <thead>\n",
       "    <tr style=\"text-align: right;\">\n",
       "      <th></th>\n",
       "      <th>n_estimators</th>\n",
       "      <th>rmse</th>\n",
       "    </tr>\n",
       "  </thead>\n",
       "  <tbody>\n",
       "    <tr>\n",
       "      <th>0</th>\n",
       "      <td>10</td>\n",
       "      <td>0.562188</td>\n",
       "    </tr>\n",
       "    <tr>\n",
       "      <th>1</th>\n",
       "      <td>20</td>\n",
       "      <td>0.548675</td>\n",
       "    </tr>\n",
       "    <tr>\n",
       "      <th>2</th>\n",
       "      <td>30</td>\n",
       "      <td>0.545106</td>\n",
       "    </tr>\n",
       "    <tr>\n",
       "      <th>3</th>\n",
       "      <td>40</td>\n",
       "      <td>0.542945</td>\n",
       "    </tr>\n",
       "    <tr>\n",
       "      <th>4</th>\n",
       "      <td>50</td>\n",
       "      <td>0.541621</td>\n",
       "    </tr>\n",
       "    <tr>\n",
       "      <th>5</th>\n",
       "      <td>60</td>\n",
       "      <td>0.540695</td>\n",
       "    </tr>\n",
       "    <tr>\n",
       "      <th>6</th>\n",
       "      <td>70</td>\n",
       "      <td>0.540693</td>\n",
       "    </tr>\n",
       "    <tr>\n",
       "      <th>7</th>\n",
       "      <td>80</td>\n",
       "      <td>0.539968</td>\n",
       "    </tr>\n",
       "    <tr>\n",
       "      <th>8</th>\n",
       "      <td>90</td>\n",
       "      <td>0.539581</td>\n",
       "    </tr>\n",
       "    <tr>\n",
       "      <th>9</th>\n",
       "      <td>100</td>\n",
       "      <td>0.539191</td>\n",
       "    </tr>\n",
       "    <tr>\n",
       "      <th>10</th>\n",
       "      <td>110</td>\n",
       "      <td>0.538755</td>\n",
       "    </tr>\n",
       "    <tr>\n",
       "      <th>11</th>\n",
       "      <td>120</td>\n",
       "      <td>0.538301</td>\n",
       "    </tr>\n",
       "    <tr>\n",
       "      <th>12</th>\n",
       "      <td>130</td>\n",
       "      <td>0.538356</td>\n",
       "    </tr>\n",
       "    <tr>\n",
       "      <th>13</th>\n",
       "      <td>140</td>\n",
       "      <td>0.538485</td>\n",
       "    </tr>\n",
       "    <tr>\n",
       "      <th>14</th>\n",
       "      <td>150</td>\n",
       "      <td>0.538239</td>\n",
       "    </tr>\n",
       "    <tr>\n",
       "      <th>15</th>\n",
       "      <td>160</td>\n",
       "      <td>0.538186</td>\n",
       "    </tr>\n",
       "    <tr>\n",
       "      <th>16</th>\n",
       "      <td>170</td>\n",
       "      <td>0.538254</td>\n",
       "    </tr>\n",
       "    <tr>\n",
       "      <th>17</th>\n",
       "      <td>180</td>\n",
       "      <td>0.538253</td>\n",
       "    </tr>\n",
       "    <tr>\n",
       "      <th>18</th>\n",
       "      <td>190</td>\n",
       "      <td>0.538036</td>\n",
       "    </tr>\n",
       "    <tr>\n",
       "      <th>19</th>\n",
       "      <td>200</td>\n",
       "      <td>0.537922</td>\n",
       "    </tr>\n",
       "  </tbody>\n",
       "</table>\n",
       "</div>"
      ],
      "text/plain": [
       "    n_estimators      rmse\n",
       "0             10  0.562188\n",
       "1             20  0.548675\n",
       "2             30  0.545106\n",
       "3             40  0.542945\n",
       "4             50  0.541621\n",
       "5             60  0.540695\n",
       "6             70  0.540693\n",
       "7             80  0.539968\n",
       "8             90  0.539581\n",
       "9            100  0.539191\n",
       "10           110  0.538755\n",
       "11           120  0.538301\n",
       "12           130  0.538356\n",
       "13           140  0.538485\n",
       "14           150  0.538239\n",
       "15           160  0.538186\n",
       "16           170  0.538254\n",
       "17           180  0.538253\n",
       "18           190  0.538036\n",
       "19           200  0.537922"
      ]
     },
     "execution_count": 69,
     "metadata": {},
     "output_type": "execute_result"
    }
   ],
   "source": [
    "df_scores"
   ]
  },
  {
   "cell_type": "markdown",
   "metadata": {},
   "source": [
    "After which value of `n_estimators` does RMSE stop improving?\n",
    "\n",
    "- 10\n",
    "- 50\n",
    "- 70\n",
    "- 120"
   ]
  },
  {
   "cell_type": "markdown",
   "metadata": {},
   "source": [
    "## Question 4\n",
    "\n",
    "Let's select the best `max_depth`:\n",
    "\n",
    "* Try different values of `max_depth`: `[10, 15, 20, 25]`\n",
    "* For each of these values, try different values of `n_estimators` from 10 till 200 (with step 10)\n",
    "* Fix the random seed: `random_state=1`"
   ]
  },
  {
   "cell_type": "code",
   "execution_count": 70,
   "metadata": {},
   "outputs": [],
   "source": [
    "scores = []\n",
    "for max_depth in [10, 15, 20, 25]:\n",
    "    rf = RandomForestRegressor(max_depth=max_depth, random_state=1)\n",
    "    rf.fit(X_train, y_train)\n",
    "    y_pred = rf.predict(X_val)\n",
    "    rmse = RMSE(y_pred, y_val)\n",
    "    \n",
    "    scores.append((max_depth, rmse))"
   ]
  },
  {
   "cell_type": "code",
   "execution_count": 71,
   "metadata": {},
   "outputs": [
    {
     "data": {
      "text/plain": [
       "3    25\n",
       "Name: max_depth, dtype: int64"
      ]
     },
     "execution_count": 71,
     "metadata": {},
     "output_type": "execute_result"
    }
   ],
   "source": [
    "df_scores = pd.DataFrame(scores, columns=['max_depth', 'rmse'])\n",
    "df_scores[df_scores['rmse'] == max(df_scores['rmse'])]['max_depth']"
   ]
  },
  {
   "cell_type": "markdown",
   "metadata": {},
   "source": [
    "What's the best `max_depth`:\n",
    "\n",
    "* 10\n",
    "* 15\n",
    "* 20\n",
    "* 25\n",
    "\n",
    "Bonus question (not graded):\n",
    "\n",
    "Will the answer be different if we change the seed for the model?"
   ]
  },
  {
   "cell_type": "markdown",
   "metadata": {},
   "source": [
    "## Question 5\n",
    "\n",
    "We can extract feature importance information from tree-based models. \n",
    "\n",
    "At each step of the decision tree learning algorith, it finds the best split. \n",
    "When doint it, we can calculate \"gain\" - the reduction in impurity before and after the split. \n",
    "This gain is quite useful in understanding what are the imporatant features \n",
    "for tree-based models.\n",
    "\n",
    "In Scikit-Learn, tree-based models contain this information in the `feature_importances_` field. \n",
    "\n",
    "For this homework question, we'll find the most important feature:\n",
    "\n",
    "* Train the model with these parametes:\n",
    "    * `n_estimators=10`,\n",
    "    * `max_depth=20`,\n",
    "    * `random_state=1`,\n",
    "    * `n_jobs=-1` (optional)\n",
    "* Get the feature importance information from this model"
   ]
  },
  {
   "cell_type": "code",
   "execution_count": 73,
   "metadata": {},
   "outputs": [
    {
     "data": {
      "text/plain": [
       "RandomForestRegressor(max_depth=20, n_estimators=10, n_jobs=-1, random_state=1)"
      ]
     },
     "execution_count": 73,
     "metadata": {},
     "output_type": "execute_result"
    }
   ],
   "source": [
    "rf = RandomForestRegressor(n_estimators=10,\n",
    "                            max_depth=20,\n",
    "                            random_state=1,\n",
    "                            n_jobs=-1)\n",
    "rf.fit(X_train, y_train)"
   ]
  },
  {
   "cell_type": "code",
   "execution_count": 79,
   "metadata": {},
   "outputs": [
    {
     "data": {
      "text/plain": [
       "15"
      ]
     },
     "execution_count": 79,
     "metadata": {},
     "output_type": "execute_result"
    }
   ],
   "source": [
    "len(rf.feature_importances_)"
   ]
  },
  {
   "cell_type": "code",
   "execution_count": 92,
   "metadata": {},
   "outputs": [
    {
     "name": "stdout",
     "output_type": "stream",
     "text": [
      "availability_365 0.08268491559352083\n",
      "calculated_host_listings_count 0.03163012351077089\n",
      "latitude 0.16407485107426453\n",
      "longitude 0.17305058795970915\n",
      "minimum_nights 0.058366351260806984\n",
      "neighbourhood_group=Bronx 0.000365312211331072\n",
      "neighbourhood_group=Brooklyn 0.0010073887350848826\n",
      "neighbourhood_group=Manhattan 0.028776259457364447\n",
      "neighbourhood_group=Queens 0.001693355475457051\n",
      "neighbourhood_group=Staten Island 0.00011871416726760457\n",
      "number_of_reviews 0.051178604933978224\n",
      "reviews_per_month 0.06666269060577394\n",
      "room_type=Entire home/apt 0.3319792574486188\n",
      "room_type=Private room 0.00447487110288585\n",
      "room_type=Shared room 0.003936716463165996\n"
     ]
    }
   ],
   "source": [
    "feature_imp = zip(dv.feature_names_, rf.feature_importances_)\n",
    "for feature, imp in feature_imp:\n",
    "    print(feature, imp)"
   ]
  },
  {
   "cell_type": "markdown",
   "metadata": {},
   "source": [
    "What's the most important feature? \n",
    "\n",
    "* `neighbourhood_group=Manhattan`\n",
    "* `room_type=Entire home/apt`\t\n",
    "* `longitude`\n",
    "* `latitude`"
   ]
  },
  {
   "cell_type": "markdown",
   "metadata": {},
   "source": [
    "## Question 6"
   ]
  },
  {
   "cell_type": "markdown",
   "metadata": {},
   "source": [
    "Now let's train an XGBoost model! For this question, we'll tune the `eta` parameter\n",
    "\n",
    "* Install XGBoost\n",
    "* Create DMatrix for train and validation\n",
    "* Create a watchlist\n",
    "* Train a model with these parameters for 100 rounds:\n",
    "\n",
    "```\n",
    "xgb_params = {\n",
    "    'eta': 0.3, \n",
    "    'max_depth': 6,\n",
    "    'min_child_weight': 1,\n",
    "    \n",
    "    'objective': 'reg:squarederror',\n",
    "    'nthread': 8,\n",
    "    \n",
    "    'seed': 1,\n",
    "    'verbosity': 1,\n",
    "}\n",
    "```"
   ]
  },
  {
   "cell_type": "code",
   "execution_count": 93,
   "metadata": {},
   "outputs": [],
   "source": [
    "import xgboost as xgb"
   ]
  },
  {
   "cell_type": "code",
   "execution_count": 94,
   "metadata": {},
   "outputs": [],
   "source": [
    "features = dv.get_feature_names()\n",
    "dtrain = xgb.DMatrix(X_train, label=y_train, feature_names=features)\n",
    "dval = xgb.DMatrix(X_val, label=y_val, feature_names=features)"
   ]
  },
  {
   "cell_type": "code",
   "execution_count": 95,
   "metadata": {},
   "outputs": [],
   "source": [
    "%%capture output\n",
    "watchList = [(dtrain, 'train'), (dval, 'val')]\n",
    "\n",
    "xgb_params = {\n",
    "    'eta': 0.3, \n",
    "    'max_depth': 6,\n",
    "    'min_child_weight': 1,\n",
    "\n",
    "    'objective': 'reg:squarederror',\n",
    "    'nthread': 8,\n",
    "\n",
    "    'seed': 1,\n",
    "}\n",
    "\n",
    "model = xgb.train(xgb_params,\n",
    "                  dtrain,\n",
    "                  evals=watchList,\n",
    "                  verbose_eval=1,\n",
    "                  num_boost_round=100)"
   ]
  },
  {
   "cell_type": "code",
   "execution_count": 96,
   "metadata": {},
   "outputs": [
    {
     "name": "stdout",
     "output_type": "stream",
     "text": [
      "[0]\ttrain-rmse:2.71353\tval-rmse:2.71043\n",
      "[1]\ttrain-rmse:1.94121\tval-rmse:1.93845\n",
      "[2]\ttrain-rmse:1.41468\tval-rmse:1.41331\n",
      "[3]\ttrain-rmse:1.06325\tval-rmse:1.06419\n",
      "[4]\ttrain-rmse:0.83721\tval-rmse:0.84062\n",
      "[5]\ttrain-rmse:0.69843\tval-rmse:0.70414\n",
      "[6]\ttrain-rmse:0.61746\tval-rmse:0.62587\n",
      "[7]\ttrain-rmse:0.57208\tval-rmse:0.58275\n",
      "[8]\ttrain-rmse:0.54725\tval-rmse:0.55942\n",
      "[9]\ttrain-rmse:0.53363\tval-rmse:0.54755\n",
      "[10]\ttrain-rmse:0.52558\tval-rmse:0.54108\n",
      "[11]\ttrain-rmse:0.52075\tval-rmse:0.53698\n",
      "[12]\ttrain-rmse:0.51762\tval-rmse:0.53507\n",
      "[13]\ttrain-rmse:0.51568\tval-rmse:0.53445\n",
      "[14]\ttrain-rmse:0.51340\tval-rmse:0.53362\n",
      "[15]\ttrain-rmse:0.51132\tval-rmse:0.53317\n",
      "[16]\ttrain-rmse:0.50974\tval-rmse:0.53299\n",
      "[17]\ttrain-rmse:0.50872\tval-rmse:0.53274\n",
      "[18]\ttrain-rmse:0.50758\tval-rmse:0.53239\n",
      "[19]\ttrain-rmse:0.50653\tval-rmse:0.53246\n",
      "[20]\ttrain-rmse:0.50457\tval-rmse:0.53166\n",
      "[21]\ttrain-rmse:0.50440\tval-rmse:0.53187\n",
      "[22]\ttrain-rmse:0.50333\tval-rmse:0.53207\n",
      "[23]\ttrain-rmse:0.50300\tval-rmse:0.53200\n",
      "[24]\ttrain-rmse:0.50148\tval-rmse:0.53151\n",
      "[25]\ttrain-rmse:0.50089\tval-rmse:0.53144\n",
      "[26]\ttrain-rmse:0.49998\tval-rmse:0.53149\n",
      "[27]\ttrain-rmse:0.49901\tval-rmse:0.53170\n",
      "[28]\ttrain-rmse:0.49822\tval-rmse:0.53166\n",
      "[29]\ttrain-rmse:0.49673\tval-rmse:0.53151\n",
      "[30]\ttrain-rmse:0.49530\tval-rmse:0.53150\n",
      "[31]\ttrain-rmse:0.49444\tval-rmse:0.53136\n",
      "[32]\ttrain-rmse:0.49431\tval-rmse:0.53139\n",
      "[33]\ttrain-rmse:0.49363\tval-rmse:0.53158\n",
      "[34]\ttrain-rmse:0.49322\tval-rmse:0.53181\n",
      "[35]\ttrain-rmse:0.49198\tval-rmse:0.53167\n",
      "[36]\ttrain-rmse:0.49104\tval-rmse:0.53165\n",
      "[37]\ttrain-rmse:0.48952\tval-rmse:0.53108\n",
      "[38]\ttrain-rmse:0.48863\tval-rmse:0.53097\n",
      "[39]\ttrain-rmse:0.48791\tval-rmse:0.53106\n",
      "[40]\ttrain-rmse:0.48702\tval-rmse:0.53099\n",
      "[41]\ttrain-rmse:0.48639\tval-rmse:0.53093\n",
      "[42]\ttrain-rmse:0.48555\tval-rmse:0.53110\n",
      "[43]\ttrain-rmse:0.48452\tval-rmse:0.53084\n",
      "[44]\ttrain-rmse:0.48407\tval-rmse:0.53078\n",
      "[45]\ttrain-rmse:0.48372\tval-rmse:0.53075\n",
      "[46]\ttrain-rmse:0.48211\tval-rmse:0.53050\n",
      "[47]\ttrain-rmse:0.48163\tval-rmse:0.53054\n",
      "[48]\ttrain-rmse:0.48099\tval-rmse:0.53070\n",
      "[49]\ttrain-rmse:0.47975\tval-rmse:0.53098\n",
      "[50]\ttrain-rmse:0.47919\tval-rmse:0.53078\n",
      "[51]\ttrain-rmse:0.47835\tval-rmse:0.53078\n",
      "[52]\ttrain-rmse:0.47725\tval-rmse:0.53088\n",
      "[53]\ttrain-rmse:0.47648\tval-rmse:0.53080\n",
      "[54]\ttrain-rmse:0.47585\tval-rmse:0.53082\n",
      "[55]\ttrain-rmse:0.47554\tval-rmse:0.53078\n",
      "[56]\ttrain-rmse:0.47517\tval-rmse:0.53069\n",
      "[57]\ttrain-rmse:0.47450\tval-rmse:0.53064\n",
      "[58]\ttrain-rmse:0.47373\tval-rmse:0.53068\n",
      "[59]\ttrain-rmse:0.47363\tval-rmse:0.53062\n",
      "[60]\ttrain-rmse:0.47319\tval-rmse:0.53060\n",
      "[61]\ttrain-rmse:0.47218\tval-rmse:0.53052\n",
      "[62]\ttrain-rmse:0.47199\tval-rmse:0.53054\n",
      "[63]\ttrain-rmse:0.47110\tval-rmse:0.53072\n",
      "[64]\ttrain-rmse:0.46947\tval-rmse:0.53046\n",
      "[65]\ttrain-rmse:0.46903\tval-rmse:0.53052\n",
      "[66]\ttrain-rmse:0.46821\tval-rmse:0.53041\n",
      "[67]\ttrain-rmse:0.46752\tval-rmse:0.53036\n",
      "[68]\ttrain-rmse:0.46709\tval-rmse:0.53035\n",
      "[69]\ttrain-rmse:0.46699\tval-rmse:0.53037\n",
      "[70]\ttrain-rmse:0.46591\tval-rmse:0.53070\n",
      "[71]\ttrain-rmse:0.46483\tval-rmse:0.53075\n",
      "[72]\ttrain-rmse:0.46441\tval-rmse:0.53087\n",
      "[73]\ttrain-rmse:0.46358\tval-rmse:0.53072\n",
      "[74]\ttrain-rmse:0.46350\tval-rmse:0.53070\n",
      "[75]\ttrain-rmse:0.46263\tval-rmse:0.53078\n",
      "[76]\ttrain-rmse:0.46219\tval-rmse:0.53078\n",
      "[77]\ttrain-rmse:0.46174\tval-rmse:0.53076\n",
      "[78]\ttrain-rmse:0.46113\tval-rmse:0.53083\n",
      "[79]\ttrain-rmse:0.46091\tval-rmse:0.53091\n",
      "[80]\ttrain-rmse:0.46009\tval-rmse:0.53092\n",
      "[81]\ttrain-rmse:0.45942\tval-rmse:0.53090\n",
      "[82]\ttrain-rmse:0.45879\tval-rmse:0.53116\n",
      "[83]\ttrain-rmse:0.45847\tval-rmse:0.53135\n",
      "[84]\ttrain-rmse:0.45820\tval-rmse:0.53142\n",
      "[85]\ttrain-rmse:0.45816\tval-rmse:0.53144\n",
      "[86]\ttrain-rmse:0.45786\tval-rmse:0.53153\n",
      "[87]\ttrain-rmse:0.45765\tval-rmse:0.53151\n",
      "[88]\ttrain-rmse:0.45720\tval-rmse:0.53152\n",
      "[89]\ttrain-rmse:0.45677\tval-rmse:0.53172\n",
      "[90]\ttrain-rmse:0.45588\tval-rmse:0.53166\n",
      "[91]\ttrain-rmse:0.45485\tval-rmse:0.53154\n",
      "[92]\ttrain-rmse:0.45448\tval-rmse:0.53146\n",
      "[93]\ttrain-rmse:0.45383\tval-rmse:0.53156\n",
      "[94]\ttrain-rmse:0.45333\tval-rmse:0.53153\n",
      "[95]\ttrain-rmse:0.45292\tval-rmse:0.53167\n",
      "[96]\ttrain-rmse:0.45191\tval-rmse:0.53173\n",
      "[97]\ttrain-rmse:0.45142\tval-rmse:0.53169\n",
      "[98]\ttrain-rmse:0.45079\tval-rmse:0.53173\n",
      "[99]\ttrain-rmse:0.45020\tval-rmse:0.53174\n",
      "\n"
     ]
    }
   ],
   "source": [
    "s = output.stdout\n",
    "print(s)"
   ]
  },
  {
   "cell_type": "code",
   "execution_count": 97,
   "metadata": {},
   "outputs": [],
   "source": [
    "def parse_xgb_output(output):\n",
    "    results = []\n",
    "\n",
    "    for line in output.stdout.strip().split('\\n'):\n",
    "        it_line, train_line, val_line = line.split('\\t')\n",
    "\n",
    "        it = int(it_line.strip('[]'))\n",
    "        train = float(train_line.split(':')[1])\n",
    "        val = float(val_line.split(':')[1])\n",
    "\n",
    "        results.append((it, train, val))\n",
    "    \n",
    "    columns = ['num_iter', 'train_auc', 'val_auc']\n",
    "    df_results = pd.DataFrame(results, columns=columns)\n",
    "    return df_results"
   ]
  },
  {
   "cell_type": "code",
   "execution_count": 98,
   "metadata": {},
   "outputs": [],
   "source": [
    "df_score = parse_xgb_output(output)"
   ]
  },
  {
   "cell_type": "code",
   "execution_count": 99,
   "metadata": {},
   "outputs": [
    {
     "data": {
      "text/plain": [
       "<matplotlib.legend.Legend at 0x210059cdee0>"
      ]
     },
     "execution_count": 99,
     "metadata": {},
     "output_type": "execute_result"
    },
    {
     "data": {
      "image/png": "[encoded data removed]",
      "text/plain": [
       "<Figure size 432x288 with 1 Axes>"
      ]
     },
     "metadata": {
      "needs_background": "light"
     },
     "output_type": "display_data"
    }
   ],
   "source": [
    "plt.plot(df_score.num_iter, df_score.train_auc, label='train')\n",
    "plt.plot(df_score.num_iter, df_score.val_auc, label='val')\n",
    "plt.legend()"
   ]
  },
  {
   "cell_type": "markdown",
   "metadata": {},
   "source": [
    "Now change `eta` first to `0.1` and then to `0.01`"
   ]
  },
  {
   "cell_type": "code",
   "execution_count": 101,
   "metadata": {},
   "outputs": [],
   "source": [
    "scores = {}"
   ]
  },
  {
   "cell_type": "code",
   "execution_count": 105,
   "metadata": {},
   "outputs": [],
   "source": [
    "%%capture output\n",
    "watchList = [(dtrain, 'train'), (dval, 'val')]\n",
    "\n",
    "xgb_params = {\n",
    "    'eta': 0.01, \n",
    "    'max_depth': 6,\n",
    "    'min_child_weight': 1,\n",
    "\n",
    "    'objective': 'reg:squarederror',\n",
    "    'nthread': 8,\n",
    "\n",
    "    'seed': 1,\n",
    "}\n",
    "\n",
    "model = xgb.train(xgb_params,\n",
    "                  dtrain,\n",
    "                  evals=watchList,\n",
    "                  verbose_eval=1,\n",
    "                  num_boost_round=200)"
   ]
  },
  {
   "cell_type": "code",
   "execution_count": 106,
   "metadata": {},
   "outputs": [],
   "source": [
    "key = 'eta=%s' % (xgb_params['eta'])\n",
    "scores[key] = parse_xgb_output(output)"
   ]
  },
  {
   "cell_type": "code",
   "execution_count": 107,
   "metadata": {},
   "outputs": [
    {
     "data": {
      "text/plain": [
       "dict_keys(['eta=0.1', 'eta=0.01'])"
      ]
     },
     "execution_count": 107,
     "metadata": {},
     "output_type": "execute_result"
    }
   ],
   "source": [
    "scores.keys()"
   ]
  },
  {
   "cell_type": "code",
   "execution_count": 108,
   "metadata": {
    "scrolled": true
   },
   "outputs": [
    {
     "data": {
      "text/plain": [
       "<matplotlib.legend.Legend at 0x210050c9940>"
      ]
     },
     "execution_count": 108,
     "metadata": {},
     "output_type": "execute_result"
    },
    {
     "data": {
      "image/png": "[encoded data removed]",
      "text/plain": [
       "<Figure size 432x288 with 1 Axes>"
      ]
     },
     "metadata": {
      "needs_background": "light"
     },
     "output_type": "display_data"
    }
   ],
   "source": [
    "etas = ['eta=0.1', 'eta=0.01']\n",
    "for eta in etas:\n",
    "    df_score = scores[eta]\n",
    "    plt.plot(df_score.num_iter, df_score.val_auc, label=eta)\n",
    "plt.legend()"
   ]
  },
  {
   "cell_type": "markdown",
   "metadata": {},
   "source": [
    "Which eta leads to the best RMSE score on the validation dataset?\n",
    "\n",
    "* 0.3\n",
    "* 0.1\n",
    "* 0.01"
   ]
  },
  {
   "cell_type": "markdown",
   "metadata": {},
   "source": [
    "## Deadline\n",
    "\n",
    "\n",
    "The deadline for submitting is 20 October 2021, 17:00 CET (Wednesday). After that, the form will be closed.\n",
    "\n"
   ]
  },
  {
   "cell_type": "code",
   "execution_count": null,
   "metadata": {},
   "outputs": [],
   "source": []
  }
 ],
 "metadata": {
  "kernelspec": {
   "display_name": "Python 3",
   "language": "python",
   "name": "python3"
  },
  "language_info": {
   "codemirror_mode": {
    "name": "ipython",
    "version": 3
   },
   "file_extension": ".py",
   "mimetype": "text/x-python",
   "name": "python",
   "nbconvert_exporter": "python",
   "pygments_lexer": "ipython3",
   "version": "3.9.1"
  }
 },
 "nbformat": 4,
 "nbformat_minor": 2
}
