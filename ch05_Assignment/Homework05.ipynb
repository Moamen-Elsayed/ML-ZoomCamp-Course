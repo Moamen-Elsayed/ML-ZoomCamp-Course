{
 "cells": [
  {
   "cell_type": "code",
   "execution_count": 9,
   "id": "16c01de3",
   "metadata": {},
   "outputs": [],
   "source": [
    "import pickle\n",
    "\n",
    "import pandas as pd\n",
    "import numpy as np"
   ]
  },
  {
   "cell_type": "code",
   "execution_count": 3,
   "id": "8144c230",
   "metadata": {},
   "outputs": [],
   "source": [
    "# Question 1)\n",
    "# pipenv --version == version 2021.5.29"
   ]
  },
  {
   "cell_type": "code",
   "execution_count": 4,
   "id": "b8a3303f",
   "metadata": {},
   "outputs": [],
   "source": [
    "# Question 2)\n",
    "# Checksum for Scikit-Learn 1.0 == \"sha256:121f78d6564000dc5e968394f45aac87981fcaaf2be40cfcd8f07b2baa1e1829\""
   ]
  },
  {
   "cell_type": "code",
   "execution_count": 14,
   "id": "ce17ee95",
   "metadata": {},
   "outputs": [
    {
     "name": "stdout",
     "output_type": "stream",
     "text": [
      "{'churn_probability': 0.11549580587832894, 'churn': False}\n"
     ]
    }
   ],
   "source": [
    "# Question 3)\n",
    "\n",
    "model_file = 'model1.bin'\n",
    "with open(model_file, 'rb') as f_in:\n",
    "    model = pickle.load(f_in)\n",
    "    \n",
    "dv_file = 'dv.bin'\n",
    "with open(dv_file, 'rb') as f_in:\n",
    "    dv = pickle.load(f_in)\n",
    "    \n",
    "customer = {\"contract\": \"two_year\", \"tenure\": 12, \"monthlycharges\": 19.7}\n",
    "\n",
    "X = dv.transform([customer])\n",
    "y_pred = model.predict_proba(X)[0,1]\n",
    "churn = y_pred >= 0.5\n",
    "\n",
    "result = {\n",
    "    'churn_probability': float(y_pred),\n",
    "    'churn': bool(churn)\n",
    "}\n",
    "\n",
    "print(result)"
   ]
  },
  {
   "cell_type": "code",
   "execution_count": 36,
   "id": "52d5e2de",
   "metadata": {},
   "outputs": [
    {
     "name": "stdout",
     "output_type": "stream",
     "text": [
      "churn_proba: 0.9988892771007961 , churn: True\n"
     ]
    }
   ],
   "source": [
    "# Question 4)\n",
    "# from flask import Flask\n",
    "# from flask import request\n",
    "# from flask import jsonify\n",
    "\n",
    "# app = Flask('churn')\n",
    "\n",
    "# @app.route('/prediction', methods=[\"POST\"])\n",
    "# def pred():\n",
    "#     customer = request.get_json()\n",
    "#     x = dv.transform([customer])\n",
    "#     y_pred = model.predict_proba(x)[0, 1]\n",
    "#     churn = y_pred >= .5\n",
    "#     result = {\n",
    "#         'churn_proba': float(y_pred),\n",
    "#         'churn': bool(churn) \n",
    "#     }\n",
    "    \n",
    "#     return jsonify(result)\n",
    "\n",
    "import requests\n",
    "\n",
    "url = ' http://192.168.1.4:9696/prediction'\n",
    "\n",
    "customer = {\"contract\": \"two_year\", \"tenure\": 1, \"monthlycharges\": 10}\n",
    "\n",
    "response = requests.post(url, json=customer).json()\n",
    "print('churn_proba: {} , churn: {}'.format(response['churn_proba'], response['churn']))"
   ]
  },
  {
   "cell_type": "code",
   "execution_count": null,
   "id": "da8e20ca",
   "metadata": {},
   "outputs": [],
   "source": [
    "# Question 5)"
   ]
  }
 ],
 "metadata": {
  "kernelspec": {
   "display_name": "Python 3",
   "language": "python",
   "name": "python3"
  },
  "language_info": {
   "codemirror_mode": {
    "name": "ipython",
    "version": 3
   },
   "file_extension": ".py",
   "mimetype": "text/x-python",
   "name": "python",
   "nbconvert_exporter": "python",
   "pygments_lexer": "ipython3",
   "version": "3.9.1"
  }
 },
 "nbformat": 4,
 "nbformat_minor": 5
}
